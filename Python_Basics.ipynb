{
 "cells": [
  {
   "cell_type": "markdown",
   "metadata": {},
   "source": [
    "# PYTHON BASICS "
   ]
  },
  {
   "cell_type": "markdown",
   "metadata": {},
   "source": [
    "Python is a Programming Language"
   ]
  },
  {
   "cell_type": "markdown",
   "metadata": {},
   "source": [
    "# Python Collections (Arrays)\n",
    "\n",
    "There are four collection data types in the Python programming language:\n",
    "\n",
    "* **List** is a collection which is ordered and changeable. Allows duplicate members.\n",
    "* **Tuple** is a collection which is ordered and unchangeable. Allows duplicate members.\n",
    "* **Set** is a collection which is unordered, unchangeable*, and unindexed. No duplicate members.\n",
    "* **Dictionary** is a collection which is ordered** and changeable. No duplicate members."
   ]
  },
  {
   "cell_type": "markdown",
   "metadata": {},
   "source": [
    "# List, Tuples, Set, dictonary"
   ]
  },
  {
   "cell_type": "markdown",
   "metadata": {},
   "source": [
    "## LIST\n",
    "\n",
    "List items are ordered, changeable, and allow duplicate values.\n",
    "\n",
    "A list can contain different data types\n",
    "\n",
    "### Ordered\n",
    "* When we say that lists are ordered, it means that the items have a defined order, and that order will not change.\n",
    "\n",
    "* If you add new items to a list, the new items will be placed at the end of the list.\n",
    "\n",
    "### Changeable\n",
    "The list is changeable, meaning that we can change, add, and remove items in a list after it has been created.\n",
    "\n",
    "### Allow Duplicates\n",
    "Since lists are indexed, lists can have items with the same value"
   ]
  },
  {
   "cell_type": "code",
   "execution_count": 40,
   "metadata": {},
   "outputs": [
    {
     "name": "stdout",
     "output_type": "stream",
     "text": [
      "['BMW', 'Ford', 'GT', 'Audi', 'BMW']\n"
     ]
    }
   ],
   "source": [
    "# LIST\n",
    "cars = ['BMW', 'Ford', 'GT', 'Audi']\n",
    "\n",
    "# Entering the Duplicate values\n",
    "cars = ['BMW', 'Ford', 'GT', 'Audi', 'BMW']\n",
    "print(cars)"
   ]
  },
  {
   "cell_type": "code",
   "execution_count": 41,
   "metadata": {},
   "outputs": [
    {
     "name": "stdout",
     "output_type": "stream",
     "text": [
      "['BMW', 'Audi', 'Benz', 'BMW']\n"
     ]
    }
   ],
   "source": [
    "# Entering the Duplicate values\n",
    "cars = ['BMW', 'Audi', 'Benz', 'BMW']\n",
    "print(cars)"
   ]
  },
  {
   "cell_type": "code",
   "execution_count": 42,
   "metadata": {},
   "outputs": [
    {
     "name": "stdout",
     "output_type": "stream",
     "text": [
      "4\n"
     ]
    }
   ],
   "source": [
    "# Check the length of the list\n",
    "print(len(cars))"
   ]
  },
  {
   "cell_type": "code",
   "execution_count": 43,
   "metadata": {},
   "outputs": [
    {
     "name": "stdout",
     "output_type": "stream",
     "text": [
      "<class 'list'>\n"
     ]
    }
   ],
   "source": [
    "# Type() is used to check the type of datatype\n",
    "print(type(cars))"
   ]
  },
  {
   "cell_type": "code",
   "execution_count": 44,
   "metadata": {},
   "outputs": [
    {
     "name": "stdout",
     "output_type": "stream",
     "text": [
      "['BMW', 'Audi', 'Benz', 'BMW']\n"
     ]
    }
   ],
   "source": [
    "# The list() constructor \n",
    "data_car = list(('BMW', 'Audi', 'Benz', 'BMW'))\n",
    "print(data_car)"
   ]
  },
  {
   "cell_type": "code",
   "execution_count": 45,
   "metadata": {},
   "outputs": [
    {
     "name": "stdout",
     "output_type": "stream",
     "text": [
      "['BMW', 'Audi', 'Benz', 'BMW']\n",
      "Audi\n",
      "['BMW', 'Audi']\n",
      "['Audi']\n",
      "['Audi', 'Benz']\n"
     ]
    }
   ],
   "source": [
    "print(cars)\n",
    "print(cars[1])\n",
    "print(cars[:2])\n",
    "print(cars[1:2])\n",
    "print(cars[-3:-1])"
   ]
  },
  {
   "cell_type": "code",
   "execution_count": 46,
   "metadata": {},
   "outputs": [
    {
     "name": "stdout",
     "output_type": "stream",
     "text": [
      "The cars is not worthy\n"
     ]
    }
   ],
   "source": [
    "# If statement in List\n",
    "if \"audi\" in cars:\n",
    "    print(\"The cars is worthy\")\n",
    "else:\n",
    "    print(\"The cars is not worthy\")"
   ]
  },
  {
   "cell_type": "code",
   "execution_count": 47,
   "metadata": {},
   "outputs": [
    {
     "name": "stdout",
     "output_type": "stream",
     "text": [
      "['BMW', 'Rolls Royce', 'Benz', 'BMW']\n",
      "['BMW', 'Rolls Royce', 'Maruti', 'Hundai', 'BMW']\n"
     ]
    }
   ],
   "source": [
    "# Redefining the value\n",
    "cars[1] = 'Rolls Royce'\n",
    "print(cars)\n",
    "\n",
    "# Redefining for an Multipel Values\n",
    "cars[2:3] = [\"Maruti\", \"Hundai\"]\n",
    "print(cars)"
   ]
  },
  {
   "cell_type": "code",
   "execution_count": 48,
   "metadata": {},
   "outputs": [
    {
     "name": "stdout",
     "output_type": "stream",
     "text": [
      "['BMW', 'Rolls Royce', 'Jaguar', 'Maruti', 'Hundai', 'BMW']\n"
     ]
    }
   ],
   "source": [
    "# Insert() is used to insert the values at an particular index\n",
    "cars.insert(2,'Jaguar')\n",
    "print(cars)"
   ]
  },
  {
   "cell_type": "code",
   "execution_count": null,
   "metadata": {},
   "outputs": [],
   "source": [
    "# append() is used to get the value added to the end of the list\n",
    "cars.append('Ford')\n",
    "print('The Append values',cars)"
   ]
  },
  {
   "cell_type": "code",
   "execution_count": null,
   "metadata": {},
   "outputs": [],
   "source": [
    "# extend() is used to append elements from the another list\n",
    "\n",
    "list1 = ['Apple', 'Mango', 'Banana', 'Orange']\n",
    "list2 = ['Kiwi', 'Jack fruit', 'Dragon Fruit']\n",
    "list1.extend(list2)\n",
    "print(list1)\n",
    "\n",
    "# This extend() can also append in the tupel, dictonary, set\n",
    "\n",
    "var_one = [\"Bike\", \"Car\", \"Cycle\"]\n",
    "var_two = (\"Aeroplane\", \"ship\")\n",
    "var_one.extend(var_two)\n",
    "print('The Extend value is', var_one)"
   ]
  },
  {
   "cell_type": "code",
   "execution_count": null,
   "metadata": {},
   "outputs": [],
   "source": [
    "# Remove() is to get of the specific item\n",
    "# If there are more than one item with the specified value, the remove() method removes the first occurrence:\n",
    "cars.remove('BMW')\n",
    "print(cars)"
   ]
  },
  {
   "cell_type": "code",
   "execution_count": null,
   "metadata": {},
   "outputs": [],
   "source": [
    "# pop() is used to remove the specific index\n",
    "\n",
    "cars.pop(1)\n",
    "print(cars)\n",
    "\n",
    "# if no index is specified it removes the last values\n",
    "\n",
    "cars.pop()\n",
    "print(cars)"
   ]
  },
  {
   "cell_type": "code",
   "execution_count": null,
   "metadata": {},
   "outputs": [],
   "source": [
    "# del is also used for removing the specific value or the whole list \n",
    "# var_one\n",
    "# del var_one[0]\n",
    "# print(var_one)\n",
    "# del var_one "
   ]
  },
  {
   "cell_type": "code",
   "execution_count": null,
   "metadata": {},
   "outputs": [],
   "source": [
    "# clear() empty the list, the list still remains with no values\n",
    "cars.clear()"
   ]
  },
  {
   "cell_type": "code",
   "execution_count": null,
   "metadata": {},
   "outputs": [],
   "source": [
    "# Loop list -1\n",
    "fruit = [\"apple\", \"banana\", \"pineapple\"]\n",
    "for x in fruit:\n",
    "    print(x)\n",
    "    if x == 'banana':\n",
    "        break"
   ]
  },
  {
   "cell_type": "code",
   "execution_count": 52,
   "metadata": {},
   "outputs": [
    {
     "name": "stdout",
     "output_type": "stream",
     "text": [
      "apple\n"
     ]
    }
   ],
   "source": [
    "# Loop list -2\n",
    "fruit = [\"apple\", \"banana\", \"pineapple\"]\n",
    "for x in fruit:\n",
    "    if x == 'banana':\n",
    "        break\n",
    "    print(x)"
   ]
  },
  {
   "cell_type": "code",
   "execution_count": 86,
   "metadata": {},
   "outputs": [
    {
     "name": "stdout",
     "output_type": "stream",
     "text": [
      "[50, 58, 62, 100]\n",
      "['banana', 'cherry', 'Kiwi', 'Orange']\n"
     ]
    }
   ],
   "source": [
    "# Customised Sort\n",
    "# You can also customize your own function by using the keyword argument key = function\n",
    "def mysort(n):\n",
    "    return abs(n-50)\n",
    "\n",
    "list = [50, 100, 58, 62]\n",
    "\n",
    "list.sort(key = mysort)\n",
    "print(list)\n",
    "\n",
    "# By default the sort() method is case sensitive, resulting in all capital letters being sorted before lower case letters:\n",
    "fruits_basket = [\"banana\", \"Orange\", \"Kiwi\", \"cherry\"]\n",
    "# fruits.sort()\n",
    "fruits_basket.sort(key = str.lower)\n",
    "print(fruits_basket)\n",
    "# print(fruits)"
   ]
  },
  {
   "cell_type": "code",
   "execution_count": 65,
   "metadata": {},
   "outputs": [
    {
     "name": "stdout",
     "output_type": "stream",
     "text": [
      "['apple', 'banana', 'cherry', 'kiwi']\n",
      "['banana', 'cherry', 'kiwi', 'mango']\n"
     ]
    }
   ],
   "source": [
    "fruits = [\"apple\", \"banana\", \"cherry\", \"kiwi\", \"mango\"]\n",
    "\n",
    "newlist = []\n",
    "\n",
    "new_list_creation = [x for x in fruits if x != \"mango\"]\n",
    "print(new_list_creation)\n",
    "\n",
    "# Code Break-up which can be exaplined in the code below\n",
    "for i in fruits:\n",
    "    if i != \"apple\":\n",
    "        newlist.append(i)\n",
    "print(newlist)"
   ]
  },
  {
   "cell_type": "code",
   "execution_count": 72,
   "metadata": {},
   "outputs": [
    {
     "name": "stdout",
     "output_type": "stream",
     "text": [
      "geetha\n",
      "GEETHA\n"
     ]
    }
   ],
   "source": [
    "# Upper and Lower case Transformation\n",
    "x = \"Geetha\"\n",
    "y = x.lower()\n",
    "z = x.upper()\n",
    "print(y)\n",
    "print(z)"
   ]
  },
  {
   "cell_type": "code",
   "execution_count": 89,
   "metadata": {},
   "outputs": [
    {
     "name": "stdout",
     "output_type": "stream",
     "text": [
      "['banana', 'Orange', 'Kiwi', 'cherry']\n"
     ]
    }
   ],
   "source": [
    "# Reverse() - reverse the order of a list, regardless of the alphabet\n",
    "\n",
    "furits = [\"banana\", \"Orange\", \"Kiwi\", \"cherry\"]\n",
    "fruits.reverse()\n",
    "print(fruits)"
   ]
  },
  {
   "cell_type": "code",
   "execution_count": 78,
   "metadata": {},
   "outputs": [
    {
     "name": "stdout",
     "output_type": "stream",
     "text": [
      "['Elephant', 'Lion', 'Tiger', 'Zebra']\n",
      "['Zebra', 'Tiger', 'Lion', 'Elephant']\n"
     ]
    }
   ],
   "source": [
    "# Sorting with Asc & DSCE\n",
    "# ASC\n",
    "animals = ['Tiger', 'Zebra', 'Elephant', 'Lion']\n",
    "animals.sort()\n",
    "print(animals)\n",
    "\n",
    "# DSCE\n",
    "animals.sort(reverse = True)\n",
    "print(animals)"
   ]
  },
  {
   "cell_type": "markdown",
   "metadata": {},
   "source": [
    "## TUPLES\n",
    "\n",
    "Tuple items are ordered, unchangeable, and allow duplicate values.\n",
    "\n",
    "Tuple are indexed, the first item has index [0], the second item has index [1].\n",
    "\n",
    "### Ordered\n",
    "The tuples are ordered, it means that the items have a defined order, and that order will not change.\n",
    "\n",
    "### Unchangeable\n",
    "Tuples are unchangeable, meaning that we cannot change, add or remove items after the tuple has been created.\n",
    "\n",
    "### Allow Duplicates\n",
    "Since tuples are indexed, they can have items with the same value:"
   ]
  },
  {
   "cell_type": "code",
   "execution_count": 23,
   "metadata": {},
   "outputs": [
    {
     "name": "stdout",
     "output_type": "stream",
     "text": [
      "('BMW', 'Ford', 'GT', 'Audi')\n"
     ]
    }
   ],
   "source": [
    "# TUPLES \n",
    "cars = ('BMW', 'Ford', 'GT', 'Audi')\n",
    "print(cars)"
   ]
  },
  {
   "cell_type": "code",
   "execution_count": 36,
   "metadata": {},
   "outputs": [
    {
     "name": "stdout",
     "output_type": "stream",
     "text": [
      "('BMW', 'Ford', 'GT', 'Audi', 'GT')\n",
      "5\n"
     ]
    }
   ],
   "source": [
    "# Adding Duplicated in an Tuples\n",
    "cars = ('BMW', 'Ford', 'GT', 'Audi', 'GT')\n",
    "print(cars)\n",
    "\n",
    "# Length of an tuple\n",
    "cars = ('BMW', 'Ford', 'GT', 'Audi', 'GT')\n",
    "print(len(cars))"
   ]
  },
  {
   "cell_type": "code",
   "execution_count": 34,
   "metadata": {
    "scrolled": true
   },
   "outputs": [
    {
     "name": "stdout",
     "output_type": "stream",
     "text": [
      "('BMW',)\n",
      "<class 'tuple'>\n",
      "BMW\n",
      "<class 'str'>\n"
     ]
    }
   ],
   "source": [
    "# In order to have only one item in a tuple follw the command below\n",
    "cars = ('BMW',)\n",
    "print(cars)\n",
    "print(type(cars))\n",
    "\n",
    "# In case when the comma is not given\n",
    "cars_value = ('BMW')\n",
    "print(cars_value)\n",
    "print(type(cars_value ))"
   ]
  },
  {
   "cell_type": "code",
   "execution_count": 2,
   "metadata": {},
   "outputs": [
    {
     "name": "stdout",
     "output_type": "stream",
     "text": [
      "('Hari', 'Jay', 'Ram')\n"
     ]
    }
   ],
   "source": [
    "# Tuples Constructor\n",
    "f_name = tuple(('Hari', 'Jay', 'Ram'))\n",
    "print(f_name)"
   ]
  },
  {
   "cell_type": "code",
   "execution_count": 18,
   "metadata": {},
   "outputs": [],
   "source": [
    "# Concerting a tuple into an list\n",
    "# The only way to add the item to an tuples is to convert to list and add the item and again change to tuples\n",
    "# append() can aslo be added up only converting to list\n",
    "f_name = ('Hari', 'Jay', 'Ram')\n",
    "# f_name_to_list = list(f_name)\n",
    "\n",
    "# f_name_to_list[1] = \"vishnu\"\n",
    "\n",
    "# f_name = tuple(f_name_to_list)\n",
    "\n",
    "# print(f_name)"
   ]
  },
  {
   "cell_type": "code",
   "execution_count": 2,
   "metadata": {},
   "outputs": [
    {
     "name": "stdout",
     "output_type": "stream",
     "text": [
      "BMW\n",
      "Auid\n",
      "Skoda\n"
     ]
    }
   ],
   "source": [
    "# Unpacking Tuples\n",
    "cars = (\"BMW\", \"Auid\", \"Skoda\")\n",
    "\n",
    "(white, red, green) = cars\n",
    "\n",
    "print(white)\n",
    "print(red)\n",
    "print(green)"
   ]
  },
  {
   "cell_type": "code",
   "execution_count": 4,
   "metadata": {},
   "outputs": [
    {
     "name": "stdout",
     "output_type": "stream",
     "text": [
      "apple\n",
      "banana\n",
      "['cherry', 'strawberry', 'raspberry']\n"
     ]
    }
   ],
   "source": [
    "# The number of variables must match the number of values in the tuple, if not, you must use an asterisk to collect the remaining values as a list.\n",
    "fruits = (\"apple\", \"banana\", \"cherry\", \"strawberry\", \"raspberry\")\n",
    "\n",
    "(green, yellow, *red) = fruits\n",
    "\n",
    "\n",
    "print(green)\n",
    "print(yellow)\n",
    "print(red)"
   ]
  },
  {
   "cell_type": "code",
   "execution_count": 5,
   "metadata": {},
   "outputs": [
    {
     "name": "stdout",
     "output_type": "stream",
     "text": [
      "apple\n",
      "['banana', 'cherry', 'strawberry']\n",
      "raspberry\n"
     ]
    }
   ],
   "source": [
    "# If the asterisk is added to another variable name than the last, Python will assign values to the variable until the number of values left matches the number of variables left.\n",
    "fruits = (\"apple\", \"banana\", \"cherry\", \"strawberry\", \"raspberry\")\n",
    "\n",
    "(green, *yellow, red) = fruits\n",
    "\n",
    "print(green)\n",
    "print(yellow)\n",
    "print(red)"
   ]
  },
  {
   "cell_type": "code",
   "execution_count": null,
   "metadata": {},
   "outputs": [],
   "source": []
  },
  {
   "cell_type": "markdown",
   "metadata": {},
   "source": [
    "# SET\n",
    "\n",
    "* Sets are used to store multiple items in a single variable.\n",
    "* Set is one of 4 built-in data types in Python used to store collections of data\n",
    "* A set is a collection which is unordered, unchangeable*, and unindexed."
   ]
  },
  {
   "cell_type": "code",
   "execution_count": 2,
   "metadata": {},
   "outputs": [
    {
     "name": "stdout",
     "output_type": "stream",
     "text": [
      "{'Desiel', 'Electric', 'Petrol'}\n"
     ]
    }
   ],
   "source": [
    "cars = {\"Petrol\", \"Desiel\", \"Electric\", \"Electric\"}\n",
    "print(cars)"
   ]
  },
  {
   "cell_type": "code",
   "execution_count": 9,
   "metadata": {},
   "outputs": [
    {
     "name": "stdout",
     "output_type": "stream",
     "text": [
      "{0, 1, 'ballon', 'Tabel'}\n",
      "4\n",
      "<class 'set'>\n"
     ]
    }
   ],
   "source": [
    "# The Value True and 1 are considered the same value in sets, and are treated as duplicates\n",
    "# The values False and 0 are considered the same value in sets, and are treated as duplicates\n",
    "test_variabel = {1, True, 'ballon', 0, False, 'Tabel'}\n",
    "print(test_variabel)\n",
    "print(len(test_variabel))\n",
    "print(type(test_variabel))"
   ]
  },
  {
   "cell_type": "code",
   "execution_count": 18,
   "metadata": {},
   "outputs": [
    {
     "name": "stdout",
     "output_type": "stream",
     "text": [
      "Set:  {'cycle', 'Car', 'bike'}\n",
      "List:  ['Car', 'bike', 'cycle']\n",
      "Tuples:  ('Car', 'bike', 'cycle')\n"
     ]
    }
   ],
   "source": [
    "# Constructor\n",
    "test_var_set = set(('Car', 'bike', 'cycle'))\n",
    "test_var_list = list(('Car', 'bike', 'cycle'))\n",
    "test_var_tuple = tuple(('Car', 'bike', 'cycle'))\n",
    "\n",
    "print('Set: ',test_var_set)\n",
    "print('List: ',test_var_list)\n",
    "print('Tuples: ',test_var_tuple)"
   ]
  },
  {
   "cell_type": "code",
   "execution_count": 24,
   "metadata": {},
   "outputs": [
    {
     "name": "stdout",
     "output_type": "stream",
     "text": [
      "True\n",
      "True\n"
     ]
    }
   ],
   "source": [
    "# Returns True or False\n",
    "test_var = {\"Bag\", \"Pen\", \"Pencil\", \"Chart\"}\n",
    "print(\"Pen\" in test_var)\n",
    "print('Eraser' not in test_var)"
   ]
  },
  {
   "cell_type": "code",
   "execution_count": 26,
   "metadata": {},
   "outputs": [
    {
     "name": "stdout",
     "output_type": "stream",
     "text": [
      "{'cycle', 'Car', 'bike', 'Aeroplane'}\n"
     ]
    }
   ],
   "source": [
    "# Add and item into an set add()\n",
    "\n",
    "test_var = {'Car', 'bike', 'cycle'}\n",
    "\n",
    "test_var.add('Aeroplane')\n",
    "print(test_var)"
   ]
  },
  {
   "cell_type": "code",
   "execution_count": 27,
   "metadata": {},
   "outputs": [
    {
     "name": "stdout",
     "output_type": "stream",
     "text": [
      "{'cycle', 'Car', 'Pen', 'Chart', 'Pencil', 'Bag', 'bike'}\n"
     ]
    }
   ],
   "source": [
    "# Add set from another set update()\n",
    "# This can also be used in list too\n",
    "\n",
    "test_var_1 = {'Car', 'bike', 'cycle'}\n",
    "test_var_2 = {\"Bag\", \"Pen\", \"Pencil\", \"Chart\"}\n",
    "\n",
    "test_var_1.update(test_var_2)\n",
    "print(test_var_1)"
   ]
  },
  {
   "cell_type": "code",
   "execution_count": 29,
   "metadata": {},
   "outputs": [
    {
     "name": "stdout",
     "output_type": "stream",
     "text": [
      "{'cycle', 'Chart', 'Pencil', 'Car', 'Pen', 'Bag', 'bike'}\n"
     ]
    }
   ],
   "source": [
    "test_var_1 = {'Car', 'bike', 'cycle'}\n",
    "test_var_2 = [\"Bag\", \"Pen\", \"Pencil\", \"Chart\"]\n",
    "\n",
    "test_var_1.update(test_var_2)\n",
    "print(test_var_1)"
   ]
  },
  {
   "cell_type": "code",
   "execution_count": 32,
   "metadata": {},
   "outputs": [
    {
     "name": "stdout",
     "output_type": "stream",
     "text": [
      "{'Pencil', 'Bag', 'Chart'}\n"
     ]
    }
   ],
   "source": [
    "# Removing an item from an set\n",
    "# Note: If the item to remove does not exist, remove() will raise an error.\n",
    "# Note: If the item to remove does not exist, discard() will NOT raise an error.\n",
    "test_var_2 = {\"Bag\", \"Pen\", \"Pencil\", \"Chart\"}\n",
    "\n",
    "test_var_2.remove('Pen')\n",
    "test_var_2.discard('pen')\n",
    "\n",
    "print(test_var_2)"
   ]
  },
  {
   "cell_type": "code",
   "execution_count": null,
   "metadata": {},
   "outputs": [],
   "source": [
    "# pop()\n",
    "# this method will remove a random item, so you cannot be sure what item that gets removed.\n",
    "test_var_2 = {\"Bag\", \"Pen\", \"Pencil\", \"Chart\"}\n",
    "\n",
    "test_var_2.pop()"
   ]
  },
  {
   "cell_type": "code",
   "execution_count": 1,
   "metadata": {},
   "outputs": [],
   "source": [
    "# clear() empties the set\n",
    "test_var_2 = {\"Bag\", \"Pen\", \"Pencil\", \"Chart\"}\n",
    "\n",
    "test_var_2.clear()\n",
    "\n",
    "# del()\n",
    "# The del keyword will delete the set completely\n",
    "test_var_2 = {\"Bag\", \"Pen\", \"Pencil\", \"Chart\"}\n",
    "\n",
    "del test_var_2"
   ]
  },
  {
   "cell_type": "markdown",
   "metadata": {},
   "source": [
    "## JOINS IN SETS"
   ]
  },
  {
   "cell_type": "markdown",
   "metadata": {},
   "source": [
    "There are several ways to join two or more sets in Python.\n",
    "\n",
    "* The **union()** and **update()** methods joins all items from both sets.\n",
    "\n",
    "* The **intersection()** method keeps ONLY the duplicates.\n",
    "\n",
    "* The **difference()** method keeps the items from the first set that are not in the other set(s).\n",
    "\n",
    "* The **symmetric_difference()** method keeps all items EXCEPT the duplicates."
   ]
  },
  {
   "cell_type": "code",
   "execution_count": null,
   "metadata": {},
   "outputs": [],
   "source": []
  },
  {
   "cell_type": "code",
   "execution_count": null,
   "metadata": {},
   "outputs": [],
   "source": []
  },
  {
   "cell_type": "code",
   "execution_count": null,
   "metadata": {},
   "outputs": [],
   "source": []
  },
  {
   "cell_type": "code",
   "execution_count": null,
   "metadata": {},
   "outputs": [],
   "source": []
  },
  {
   "cell_type": "markdown",
   "metadata": {},
   "source": [
    "# DICTIONARY\n",
    "\n",
    "* Dictionary store values in *\"key:value\"* pair\n",
    "* A dictionary is a collection which is ordered*, changeable and do not allow duplicates."
   ]
  },
  {
   "cell_type": "code",
   "execution_count": 98,
   "metadata": {},
   "outputs": [
    {
     "name": "stdout",
     "output_type": "stream",
     "text": [
      "{'Brand': 'Jaguar', 'Model': 'SUV800', 'Type': 'Petrol'}\n"
     ]
    }
   ],
   "source": [
    "thisdict = {\n",
    "    \"Brand\": \"Jaguar\",\n",
    "    \"Model\": \"SUV800\",\n",
    "    \"Type\": \"Petrol\"\n",
    "}\n",
    "\n",
    "print(thisdict)"
   ]
  },
  {
   "cell_type": "code",
   "execution_count": null,
   "metadata": {},
   "outputs": [],
   "source": []
  },
  {
   "cell_type": "markdown",
   "metadata": {},
   "source": [
    "## ORDERED\n",
    "* When we say that dictionaries are ordered, it means that the items have a defined order, and that order will not change.\n",
    "* Unordered means that the items do not have a defined order, you cannot refer to an item by using an index.\n",
    "\n",
    "## CHANGABLE\n",
    "Dictionaries are changeable, meaning that we can change, add or remove items after the dictionary has been created.\n",
    "\n",
    "## NO DUPLICATES\n",
    "* Dictionaries cannot have two items with the same key\n",
    "* Duplicate values will overwrite existing values when duplicates is used"
   ]
  },
  {
   "cell_type": "code",
   "execution_count": 99,
   "metadata": {},
   "outputs": [
    {
     "name": "stdout",
     "output_type": "stream",
     "text": [
      "Jaguar\n"
     ]
    }
   ],
   "source": [
    "# Accessing the item in the dict\n",
    "print(thisdict['Brand'])"
   ]
  },
  {
   "cell_type": "code",
   "execution_count": null,
   "metadata": {},
   "outputs": [],
   "source": []
  },
  {
   "cell_type": "code",
   "execution_count": null,
   "metadata": {},
   "outputs": [],
   "source": []
  },
  {
   "cell_type": "code",
   "execution_count": null,
   "metadata": {},
   "outputs": [],
   "source": []
  },
  {
   "cell_type": "code",
   "execution_count": null,
   "metadata": {},
   "outputs": [],
   "source": []
  },
  {
   "cell_type": "code",
   "execution_count": null,
   "metadata": {},
   "outputs": [],
   "source": []
  },
  {
   "cell_type": "code",
   "execution_count": null,
   "metadata": {},
   "outputs": [],
   "source": []
  },
  {
   "cell_type": "code",
   "execution_count": null,
   "metadata": {},
   "outputs": [],
   "source": []
  },
  {
   "cell_type": "code",
   "execution_count": null,
   "metadata": {},
   "outputs": [],
   "source": []
  },
  {
   "cell_type": "code",
   "execution_count": null,
   "metadata": {},
   "outputs": [],
   "source": []
  },
  {
   "cell_type": "code",
   "execution_count": null,
   "metadata": {},
   "outputs": [],
   "source": []
  },
  {
   "cell_type": "code",
   "execution_count": null,
   "metadata": {},
   "outputs": [],
   "source": []
  },
  {
   "cell_type": "code",
   "execution_count": null,
   "metadata": {},
   "outputs": [],
   "source": []
  },
  {
   "cell_type": "code",
   "execution_count": null,
   "metadata": {},
   "outputs": [],
   "source": []
  },
  {
   "cell_type": "code",
   "execution_count": null,
   "metadata": {},
   "outputs": [],
   "source": []
  },
  {
   "cell_type": "code",
   "execution_count": null,
   "metadata": {},
   "outputs": [],
   "source": []
  },
  {
   "cell_type": "markdown",
   "metadata": {},
   "source": [
    "## User Input\n",
    "\n",
    "* On Python 3.6 uses the input() method.\n",
    "* Python 2.7 uses the raw_input() method."
   ]
  },
  {
   "cell_type": "code",
   "execution_count": null,
   "metadata": {},
   "outputs": [],
   "source": [
    "name = input('Enter Your Name:')\n",
    "\n",
    "print('The Name is', name)"
   ]
  },
  {
   "cell_type": "markdown",
   "metadata": {},
   "source": [
    "## Try & Except\n",
    "\n",
    "* The **try** block lets you test a block of code for errors.\n",
    "\n",
    "* The **except** block lets you handle the error.\n",
    "\n",
    "* The **else** block lets you execute code when there is no error.\n",
    "\n",
    "* The **finally** block lets you execute code, regardless of the result of the try- and except blocks."
   ]
  },
  {
   "cell_type": "code",
   "execution_count": 30,
   "metadata": {},
   "outputs": [
    {
     "name": "stdout",
     "output_type": "stream",
     "text": [
      "10\n",
      "The answer is 10\n"
     ]
    }
   ],
   "source": [
    "try:\n",
    "    test_input = 10\n",
    "    if test_input > 1:\n",
    "        print(test_input)\n",
    "except:\n",
    "    print('Error')\n",
    "else:\n",
    "    print('The answer is', test_input )"
   ]
  },
  {
   "cell_type": "code",
   "execution_count": 31,
   "metadata": {},
   "outputs": [
    {
     "name": "stdout",
     "output_type": "stream",
     "text": [
      "Error\n",
      "The code is executed\n"
     ]
    }
   ],
   "source": [
    "try:\n",
    "    print(x_test)\n",
    "except:\n",
    "    print(\"Error\")\n",
    "finally:\n",
    "    print('The code is executed')"
   ]
  },
  {
   "cell_type": "code",
   "execution_count": 29,
   "metadata": {},
   "outputs": [],
   "source": [
    "try:\n",
    "    x = 6\n",
    "    if x > 10:\n",
    "        print('Success')\n",
    "except NameError:\n",
    "    print('Faliure')\n",
    "except:\n",
    "    print('Error')"
   ]
  },
  {
   "cell_type": "markdown",
   "metadata": {},
   "source": [
    "## Raise an exception\n",
    "As a Python developer you can choose to throw an exception if a condition occurs.\n",
    "\n",
    "To throw (or raise) an exception, use the raise keyword."
   ]
  },
  {
   "cell_type": "code",
   "execution_count": 41,
   "metadata": {},
   "outputs": [
    {
     "ename": "Exception",
     "evalue": "The number can't be string",
     "output_type": "error",
     "traceback": [
      "\u001b[1;31m---------------------------------------------------------------------------\u001b[0m",
      "\u001b[1;31mException\u001b[0m                                 Traceback (most recent call last)",
      "\u001b[1;32m<ipython-input-41-65f4a978059b>\u001b[0m in \u001b[0;36m<module>\u001b[1;34m\u001b[0m\n\u001b[0;32m      7\u001b[0m \u001b[1;33m\u001b[0m\u001b[0m\n\u001b[0;32m      8\u001b[0m \u001b[1;32mif\u001b[0m \u001b[1;32mnot\u001b[0m \u001b[0mtype\u001b[0m\u001b[1;33m(\u001b[0m\u001b[0mx_test_\u001b[0m\u001b[1;33m)\u001b[0m \u001b[1;32mis\u001b[0m \u001b[0mint\u001b[0m\u001b[1;33m:\u001b[0m\u001b[1;33m\u001b[0m\u001b[1;33m\u001b[0m\u001b[0m\n\u001b[1;32m----> 9\u001b[1;33m     \u001b[1;32mraise\u001b[0m \u001b[0mException\u001b[0m\u001b[1;33m(\u001b[0m\u001b[1;34m'The number can\\'t be string'\u001b[0m\u001b[1;33m)\u001b[0m\u001b[1;33m\u001b[0m\u001b[1;33m\u001b[0m\u001b[0m\n\u001b[0m",
      "\u001b[1;31mException\u001b[0m: The number can't be string"
     ]
    }
   ],
   "source": [
    "x_test = -1\n",
    "\n",
    "if x_test < 0:\n",
    "  raise Exception(\"Sorry, no numbers below zero\")\n",
    "\n",
    "x_test_ = \"hello\"\n",
    "\n",
    "if not type(x_test_) is int:\n",
    "    raise Exception('The number can\\'t be string')"
   ]
  },
  {
   "cell_type": "code",
   "execution_count": null,
   "metadata": {},
   "outputs": [],
   "source": [
    "## Class / Objects\n",
    "\n",
    "* Python is an Object Oriented Programming Language\n",
    "* Almost everything in Python is an object, with its properties and methods\n",
    "* A Class is like an object constructor, or a \"blueprint\" for creating objects"
   ]
  },
  {
   "cell_type": "code",
   "execution_count": 1,
   "metadata": {},
   "outputs": [
    {
     "name": "stdout",
     "output_type": "stream",
     "text": [
      "<class '__main__.testclass'>\n"
     ]
    }
   ],
   "source": [
    "# Creating an class with the keyword \n",
    "class testclass:\n",
    "    x = 'Gabrilla'\n",
    "\n",
    "print(testclass)"
   ]
  },
  {
   "cell_type": "code",
   "execution_count": 2,
   "metadata": {},
   "outputs": [
    {
     "name": "stdout",
     "output_type": "stream",
     "text": [
      "Gabrilla\n"
     ]
    }
   ],
   "source": [
    "# Creating an Object with respect to the class\n",
    "\n",
    "class testclass:\n",
    "    x = 'Gabrilla'\n",
    "\n",
    "name = testclass()\n",
    "print(name.x)"
   ]
  },
  {
   "cell_type": "markdown",
   "metadata": {},
   "source": [
    "## The __init__() Function\n",
    "\n",
    "* To understand the meaning of classes we have to understand the built-in __init__() function.\n",
    "* All classes have a function called __init__(), which is always executed when the class is being initiated\n",
    "* Use the __init__() function to assign values to object properties, or other operations that are necessary to do when the object is being created:\n"
   ]
  },
  {
   "cell_type": "code",
   "execution_count": 19,
   "metadata": {},
   "outputs": [
    {
     "name": "stdout",
     "output_type": "stream",
     "text": [
      "Benz\n"
     ]
    }
   ],
   "source": [
    "class cars:\n",
    "    def __init__(company, name, model):\n",
    "        company.name = name\n",
    "        company.model = model\n",
    "        \n",
    "car_type = cars('Benz', 'S900')\n",
    "\n",
    "print(car_type.name)\n"
   ]
  },
  {
   "cell_type": "code",
   "execution_count": 22,
   "metadata": {},
   "outputs": [
    {
     "name": "stdout",
     "output_type": "stream",
     "text": [
      "Mango\n",
      "Yellow\n"
     ]
    }
   ],
   "source": [
    "class Fruits:\n",
    "    def __init__(fruit_type, name, color):\n",
    "        fruit_type.name = name\n",
    "        fruit_type.color = color\n",
    "\n",
    "fruit = Fruits('Mango', 'Yellow')\n",
    "print(fruit.name)\n",
    "print(fruit.color)\n",
    "        "
   ]
  },
  {
   "cell_type": "markdown",
   "metadata": {},
   "source": [
    "## The __str__() Function\n",
    "\n",
    "* The __str__() function controls what should be returned when the class object is represented as a string.\n",
    "\n",
    "* If the __str__() function is not set, the string representation of the object is returned\n",
    "\n"
   ]
  },
  {
   "cell_type": "code",
   "execution_count": 23,
   "metadata": {},
   "outputs": [
    {
     "name": "stdout",
     "output_type": "stream",
     "text": [
      "<__main__.Cars object at 0x000001FD731B18E0>\n"
     ]
    }
   ],
   "source": [
    "class Cars:\n",
    "    def __init__(self, name, model, year):\n",
    "        self.name = name\n",
    "        self.model = model\n",
    "        self.year = year\n",
    "        \n",
    "car = Cars('BMW', 'X900', 2019)\n",
    "print(car)"
   ]
  },
  {
   "cell_type": "code",
   "execution_count": 24,
   "metadata": {},
   "outputs": [
    {
     "name": "stdout",
     "output_type": "stream",
     "text": [
      "BMW,X900,2019\n"
     ]
    }
   ],
   "source": [
    "# The string representation of an object WITH the __str__() function:\n",
    "\n",
    "class Cars:\n",
    "    def __init__(self, name, model, year):\n",
    "        self.name = name\n",
    "        self.model = model\n",
    "        self.year = year\n",
    "    \n",
    "    def __str__(self):\n",
    "        return f\"{self.name},{self.model},{self.year}\"\n",
    "        \n",
    "car = Cars('BMW', 'X900', 2019)\n",
    "print(car)"
   ]
  },
  {
   "cell_type": "code",
   "execution_count": 28,
   "metadata": {},
   "outputs": [
    {
     "name": "stdout",
     "output_type": "stream",
     "text": [
      "<bound method Cars.myfunction of <__main__.Cars object at 0x000001FD730D7730>>\n",
      "The Car name is BMW\n"
     ]
    }
   ],
   "source": [
    "# Object Method\n",
    "# Objects can also contain methods. Methods in objects are functions that belong to the object.\n",
    "class Cars:\n",
    "    def __init__(self, name, model, year):\n",
    "        self.name = name\n",
    "        self.model = model\n",
    "        self.year = year\n",
    "    \n",
    "    def myfunction(self):\n",
    "        print('The Car name is', self.name)\n",
    "        \n",
    "car = Cars('BMW', 'X900', 2019)\n",
    "print(car.myfunction)\n",
    "car.myfunction()"
   ]
  },
  {
   "cell_type": "code",
   "execution_count": 29,
   "metadata": {},
   "outputs": [
    {
     "name": "stdout",
     "output_type": "stream",
     "text": [
      "<bound method Cars.myfunction of <__main__.Cars object at 0x000001FD731C7EE0>>\n",
      "The Car name is BMW\n",
      "<bound method Cars.myfunction of <__main__.Cars object at 0x000001FD731C79A0>>\n",
      "The Car name is BMW\n"
     ]
    }
   ],
   "source": [
    "# The Self Parameter\n",
    "# The self parameter is a reference to the current instance of the class, and is used to access variables that belong to the class.\n",
    "# It does not have to be named self, you can call it whatever you like, but it has to be the first parameter of any function in the class:\n",
    "\n",
    "# Method 1:\n",
    "class Cars:\n",
    "    def __init__(self, name, model, year):\n",
    "        self.name = name\n",
    "        self.model = model\n",
    "        self.year = year\n",
    "    \n",
    "    def myfunction(self):\n",
    "        print('The Car name is', self.name)\n",
    "        \n",
    "car = Cars('BMW', 'X900', 2019)\n",
    "print(car.myfunction)\n",
    "car.myfunction()\n",
    "\n",
    "\n",
    "# Method 2:\n",
    "class Cars:\n",
    "    def __init__(type, name, model, year):\n",
    "        type.name = name\n",
    "        type.model = model\n",
    "        type.year = year\n",
    "    \n",
    "    def myfunction(cname):\n",
    "        print('The Car name is', cname.name)\n",
    "        \n",
    "car = Cars('BMW', 'X900', 2019)\n",
    "print(car.myfunction)\n",
    "car.myfunction()"
   ]
  },
  {
   "cell_type": "code",
   "execution_count": 34,
   "metadata": {},
   "outputs": [
    {
     "name": "stdout",
     "output_type": "stream",
     "text": [
      "X690\n",
      "The Car name is BMW and model is X690\n"
     ]
    }
   ],
   "source": [
    "# Modifying the object properties\n",
    "\n",
    "class Cars:\n",
    "    def __init__(type, name, model, year):\n",
    "        type.name = name\n",
    "        type.model = model\n",
    "        type.year = year\n",
    "    \n",
    "    def myfunction(cname):\n",
    "        print('The Car name is ' + cname.name + ' and model is ' + cname.model)\n",
    "        \n",
    "car = Cars('BMW', 'X900', 2019)\n",
    "\n",
    "car.model = 'X690'\n",
    "print(car.model)\n",
    "car.myfunction()"
   ]
  },
  {
   "cell_type": "code",
   "execution_count": null,
   "metadata": {},
   "outputs": [],
   "source": [
    "# Deleting the object Properties\n",
    "del car.model\n",
    "\n",
    "# Deleting the Object\n",
    "del car"
   ]
  },
  {
   "cell_type": "markdown",
   "metadata": {},
   "source": [
    "# Inheritance\n",
    "\n",
    "Inheritance allows us to define a class that inherits all the methods and properties from another class.\n",
    "\n",
    "* **Parent class** is the class being inherited from, also called base class.\n",
    "\n",
    "* **Child class** is the class that inherits from another class, also called derived class."
   ]
  },
  {
   "cell_type": "code",
   "execution_count": 60,
   "metadata": {},
   "outputs": [
    {
     "name": "stdout",
     "output_type": "stream",
     "text": [
      "Baskar 67\n"
     ]
    }
   ],
   "source": [
    "# Create a class named Parent, with name and age properties, and a printname method:\n",
    "class Parent:\n",
    "    def __init__(self, name, age):\n",
    "        self.name = name\n",
    "        self.age = age\n",
    "    \n",
    "    def printname(self):\n",
    "        print(self.name, self.age)\n",
    "        \n",
    "\n",
    "parent_inherit = Parent('Baskar', 67)\n",
    "\n",
    "parent_inherit.printname()"
   ]
  },
  {
   "cell_type": "code",
   "execution_count": 61,
   "metadata": {},
   "outputs": [
    {
     "name": "stdout",
     "output_type": "stream",
     "text": [
      "Evano 89\n"
     ]
    }
   ],
   "source": [
    "# Use the pass keyword when you do not want to add any other properties or methods to the class.\n",
    "class Child(Parent):\n",
    "    pass\n",
    "\n",
    "test_child = child('Evano', 89)\n",
    "\n",
    "test_child.printname()"
   ]
  },
  {
   "cell_type": "code",
   "execution_count": 64,
   "metadata": {},
   "outputs": [
    {
     "name": "stdout",
     "output_type": "stream",
     "text": [
      "Gowtham 25\n"
     ]
    }
   ],
   "source": [
    "#  Adding up the __init__() to the child class\n",
    "# When you add the __init__() function, the child class will no longer inherit the parent's __init__() function.\n",
    "# The child's __init__() function overrides the inheritance of the parent's __init__() function\n",
    "# To keep the inheritance of the parent's __init__() function, add a call to the parent's __init__() function \n",
    "class Child(Parent):\n",
    "    def __init__(self, name, age):\n",
    "        Parent.__init__(self, name, age)\n",
    "        \n",
    "child_parent = Child('Gowtham', 25)\n",
    "\n",
    "child_parent.printname()\n",
    "\n",
    "\n",
    "# Python also has a super() function that will make the child class inherit all the methods and properties from its parent:4\n",
    "class Child(Parent):\n",
    "    def __init__(self, name, age):\n",
    "        super().__init__(name, age)\n",
    "    "
   ]
  },
  {
   "cell_type": "code",
   "execution_count": 66,
   "metadata": {},
   "outputs": [
    {
     "name": "stdout",
     "output_type": "stream",
     "text": [
      "2025\n"
     ]
    }
   ],
   "source": [
    "# Adding Properties\n",
    "\n",
    "class Child(Parent):\n",
    "    def __init__(self, name, age):\n",
    "        super().__init__(name, age)\n",
    "        self.year = 2025\n",
    "\n",
    "child_properties = Child('Hari', 52)\n",
    "print(child_properties.year)"
   ]
  },
  {
   "cell_type": "code",
   "execution_count": 94,
   "metadata": {},
   "outputs": [
    {
     "name": "stdout",
     "output_type": "stream",
     "text": [
      "Jaguar SUV 2024\n",
      "<bound method Highclasscars.printcars of <__main__.Bikes object at 0x000001FD75053970>>\n",
      "AUDI S300 2018\n",
      "Petrol\n",
      "AUDI S300 2018\n"
     ]
    },
    {
     "data": {
      "text/plain": [
       "'Petrol'"
      ]
     },
     "execution_count": 94,
     "metadata": {},
     "output_type": "execute_result"
    }
   ],
   "source": [
    "# Parent Class\n",
    "class Highclasscars:\n",
    "    def __init__(self, name, model, year):\n",
    "        self.name = name\n",
    "        self.model = model\n",
    "        self.year = year\n",
    "    def printcars(self):\n",
    "        print(self.name, self.model, self.year)\n",
    "\n",
    "Car = Highclasscars('Jaguar', 'SUV', 2024)\n",
    "# print(car.name, car.model, car.year)\n",
    "Car.printcars()\n",
    "\n",
    "# Child Class\n",
    "class Bikes(Highclasscars):\n",
    "    def __init__(self, name, model, year):\n",
    "        Highclasscars.__init__(self, name, model, year)\n",
    "        super().__init__(name, model, year)\n",
    "        self.type = 'Petrol' #Assigning an new properties\n",
    "        \n",
    "Bike_child = Bikes('AUDI', 'S300', 2018)\n",
    "print(Bike_child.printcars)\n",
    "Bike_child.printcars()\n",
    "print(Bike_child.type)\n",
    "\n",
    "# Adding Properties\n",
    "class Bikes(Highclasscars):\n",
    "    def __init__(self, name, model, year, type):\n",
    "        Highclasscars.__init__(self, name, model, year)\n",
    "        super().__init__(name, model, year)\n",
    "        self.type = type #Assigning an new properties\n",
    "        \n",
    "Bike_child = Bikes('AUDI', 'S300', 2018, 'Petrol')\n",
    "Bike_child.printcars()\n",
    "print(Bike_child.type)"
   ]
  },
  {
   "cell_type": "code",
   "execution_count": 95,
   "metadata": {},
   "outputs": [
    {
     "name": "stdout",
     "output_type": "stream",
     "text": [
      "Jaguar SUV 2024\n",
      "The Car i own is Jaguar and the model is SUV900 also its year is 2024 and type is Petrol\n"
     ]
    }
   ],
   "source": [
    "# Adding a method to a child class\n",
    "# Parent Class\n",
    "class Highclasscars:\n",
    "    def __init__(self, name, model, year):\n",
    "        self.name = name\n",
    "        self.model = model\n",
    "        self.year = year\n",
    "    def printcars(self):\n",
    "        print(self.name, self.model, self.year)\n",
    "\n",
    "Car = Highclasscars('Jaguar', 'SUV', 2024)\n",
    "# print(car.name, car.model, car.year)\n",
    "Car.printcars()\n",
    "\n",
    "# Child Class\n",
    "class Bikes(Highclasscars):\n",
    "    def __init__(self, name, model, year, type):\n",
    "        Highclasscars.__init__(self, name, model, year)\n",
    "        super().__init__(name, model, year)\n",
    "        self.type = type #Assigning an new properties\n",
    "\n",
    "    def sentence(self):\n",
    "        print('The Car i own is', self.name, 'and the model is', self.model, 'also its year is', self.year, 'and type is',\n",
    "             self.type)\n",
    "Bike_child = Bikes('Jaguar', 'SUV900', 2024, 'Petrol')\n",
    "Bike_child.sentence()"
   ]
  },
  {
   "cell_type": "code",
   "execution_count": null,
   "metadata": {},
   "outputs": [],
   "source": []
  },
  {
   "cell_type": "code",
   "execution_count": null,
   "metadata": {},
   "outputs": [],
   "source": []
  },
  {
   "cell_type": "code",
   "execution_count": null,
   "metadata": {},
   "outputs": [],
   "source": []
  },
  {
   "cell_type": "code",
   "execution_count": null,
   "metadata": {},
   "outputs": [],
   "source": []
  },
  {
   "cell_type": "code",
   "execution_count": null,
   "metadata": {},
   "outputs": [],
   "source": []
  },
  {
   "cell_type": "code",
   "execution_count": null,
   "metadata": {},
   "outputs": [],
   "source": []
  },
  {
   "cell_type": "code",
   "execution_count": null,
   "metadata": {},
   "outputs": [],
   "source": []
  },
  {
   "cell_type": "code",
   "execution_count": null,
   "metadata": {},
   "outputs": [],
   "source": []
  },
  {
   "cell_type": "code",
   "execution_count": null,
   "metadata": {},
   "outputs": [],
   "source": []
  },
  {
   "cell_type": "code",
   "execution_count": null,
   "metadata": {},
   "outputs": [],
   "source": []
  },
  {
   "cell_type": "code",
   "execution_count": null,
   "metadata": {},
   "outputs": [],
   "source": []
  },
  {
   "cell_type": "code",
   "execution_count": null,
   "metadata": {},
   "outputs": [],
   "source": []
  },
  {
   "cell_type": "markdown",
   "metadata": {},
   "source": [
    "# Miscellaneous"
   ]
  },
  {
   "cell_type": "code",
   "execution_count": 55,
   "metadata": {},
   "outputs": [
    {
     "name": "stdout",
     "output_type": "stream",
     "text": [
      "\n",
      "\n",
      "* \n",
      "\n",
      "* * \n",
      "\n",
      "* * * \n",
      "\n",
      "* * * * \n",
      "\n",
      "* * * * * \n",
      "\n"
     ]
    }
   ],
   "source": [
    "# Print the start patten in the tree form \n",
    "for x in range(6):\n",
    "    for j in range(x):\n",
    "        if j <= x:\n",
    "            print(\"*\", end=\" \")   \n",
    "    print('\\n')"
   ]
  },
  {
   "cell_type": "code",
   "execution_count": 56,
   "metadata": {},
   "outputs": [
    {
     "name": "stdout",
     "output_type": "stream",
     "text": [
      "0 \n",
      "\n",
      "0 1 \n",
      "\n",
      "0 1 2 \n",
      "\n",
      "0 1 2 3 \n",
      "\n",
      "0 1 2 3 4 \n",
      "\n"
     ]
    }
   ],
   "source": [
    "# Print the pattern of tree with the numbers\n",
    "for x in range(1,6):\n",
    "    for j in range(x):\n",
    "        print(j, end = \" \")\n",
    "    print(\"\\n\")"
   ]
  },
  {
   "cell_type": "code",
   "execution_count": 57,
   "metadata": {},
   "outputs": [
    {
     "name": "stdout",
     "output_type": "stream",
     "text": [
      "****\n",
      "\n",
      "****\n",
      "\n",
      "****\n",
      "\n",
      "****\n",
      "\n"
     ]
    }
   ],
   "source": [
    "# Print the start patten in the tree form \n",
    "for i in range(4):\n",
    "    for j in range(4):\n",
    "        print('*', end = \"\")\n",
    "    print('\\n')"
   ]
  },
  {
   "cell_type": "code",
   "execution_count": 61,
   "metadata": {},
   "outputs": [
    {
     "name": "stdout",
     "output_type": "stream",
     "text": [
      "[[0, 0, 0], [0, 1, 0], [1, 0, 0]]\n"
     ]
    }
   ],
   "source": [
    "# List comprehension offers a shorter syntax when you want to create a new list based on the values of an existing list.\n",
    "x = 1\n",
    "y = 1\n",
    "z = 1\n",
    "n = 2\n",
    "\n",
    "new_list = []\n",
    "    \n",
    "for i in range(x+1):\n",
    "#     print('The value of x',x)\n",
    "    for j in range(y+1):\n",
    "#         print('The value of y',y)\n",
    "        for k in range(z):\n",
    "#             print('The value of z',z)\n",
    "            if(i+j+k != n):\n",
    "                new_list.append([i,j,k])\n",
    "print(new_list)"
   ]
  }
 ],
 "metadata": {
  "kernelspec": {
   "display_name": "Python 3",
   "language": "python",
   "name": "python3"
  },
  "language_info": {
   "codemirror_mode": {
    "name": "ipython",
    "version": 3
   },
   "file_extension": ".py",
   "mimetype": "text/x-python",
   "name": "python",
   "nbconvert_exporter": "python",
   "pygments_lexer": "ipython3",
   "version": "3.8.5"
  }
 },
 "nbformat": 4,
 "nbformat_minor": 4
}
