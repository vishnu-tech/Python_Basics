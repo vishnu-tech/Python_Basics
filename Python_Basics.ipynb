{
 "cells": [
  {
   "cell_type": "markdown",
   "metadata": {},
   "source": [
    "# PYTHON BASICS "
   ]
  },
  {
   "cell_type": "markdown",
   "metadata": {},
   "source": [
    "Python is a Programming Language"
   ]
  },
  {
   "cell_type": "markdown",
   "metadata": {},
   "source": [
    "# Python Collections (Arrays)\n",
    "\n",
    "There are four collection data types in the Python programming language:\n",
    "\n",
    "* **List** is a collection which is ordered and changeable. Allows duplicate members.\n",
    "* **Tuple** is a collection which is ordered and unchangeable. Allows duplicate members.\n",
    "* **Set** is a collection which is unordered, unchangeable*, and unindexed. No duplicate members.\n",
    "* **Dictionary** is a collection which is ordered** and changeable. No duplicate members."
   ]
  },
  {
   "cell_type": "markdown",
   "metadata": {},
   "source": [
    "# List, Tuples, Set, dictonary"
   ]
  },
  {
   "cell_type": "markdown",
   "metadata": {},
   "source": [
    "## LIST\n",
    "\n",
    "List items are ordered, changeable, and allow duplicate values.\n",
    "\n",
    "A list can contain different data types\n",
    "\n",
    "### Ordered\n",
    "* When we say that lists are ordered, it means that the items have a defined order, and that order will not change.\n",
    "\n",
    "* If you add new items to a list, the new items will be placed at the end of the list.\n",
    "\n",
    "### Changeable\n",
    "The list is changeable, meaning that we can change, add, and remove items in a list after it has been created.\n",
    "\n",
    "### Allow Duplicates\n",
    "Since lists are indexed, lists can have items with the same value"
   ]
  },
  {
   "cell_type": "code",
   "execution_count": 40,
   "metadata": {},
   "outputs": [
    {
     "name": "stdout",
     "output_type": "stream",
     "text": [
      "['BMW', 'Ford', 'GT', 'Audi', 'BMW']\n"
     ]
    }
   ],
   "source": [
    "# LIST\n",
    "cars = ['BMW', 'Ford', 'GT', 'Audi']\n",
    "\n",
    "# Entering the Duplicate values\n",
    "cars = ['BMW', 'Ford', 'GT', 'Audi', 'BMW']\n",
    "print(cars)"
   ]
  },
  {
   "cell_type": "code",
   "execution_count": 41,
   "metadata": {},
   "outputs": [
    {
     "name": "stdout",
     "output_type": "stream",
     "text": [
      "['BMW', 'Audi', 'Benz', 'BMW']\n"
     ]
    }
   ],
   "source": [
    "# Entering the Duplicate values\n",
    "cars = ['BMW', 'Audi', 'Benz', 'BMW']\n",
    "print(cars)"
   ]
  },
  {
   "cell_type": "code",
   "execution_count": 42,
   "metadata": {},
   "outputs": [
    {
     "name": "stdout",
     "output_type": "stream",
     "text": [
      "4\n"
     ]
    }
   ],
   "source": [
    "# Check the length of the list\n",
    "print(len(cars))"
   ]
  },
  {
   "cell_type": "code",
   "execution_count": 43,
   "metadata": {},
   "outputs": [
    {
     "name": "stdout",
     "output_type": "stream",
     "text": [
      "<class 'list'>\n"
     ]
    }
   ],
   "source": [
    "# Type() is used to check the type of datatype\n",
    "print(type(cars))"
   ]
  },
  {
   "cell_type": "code",
   "execution_count": 44,
   "metadata": {},
   "outputs": [
    {
     "name": "stdout",
     "output_type": "stream",
     "text": [
      "['BMW', 'Audi', 'Benz', 'BMW']\n"
     ]
    }
   ],
   "source": [
    "# The list() constructor \n",
    "data_car = list(('BMW', 'Audi', 'Benz', 'BMW'))\n",
    "print(data_car)"
   ]
  },
  {
   "cell_type": "code",
   "execution_count": 45,
   "metadata": {},
   "outputs": [
    {
     "name": "stdout",
     "output_type": "stream",
     "text": [
      "['BMW', 'Audi', 'Benz', 'BMW']\n",
      "Audi\n",
      "['BMW', 'Audi']\n",
      "['Audi']\n",
      "['Audi', 'Benz']\n"
     ]
    }
   ],
   "source": [
    "print(cars)\n",
    "print(cars[1])\n",
    "print(cars[:2])\n",
    "print(cars[1:2])\n",
    "print(cars[-3:-1])"
   ]
  },
  {
   "cell_type": "code",
   "execution_count": 46,
   "metadata": {},
   "outputs": [
    {
     "name": "stdout",
     "output_type": "stream",
     "text": [
      "The cars is not worthy\n"
     ]
    }
   ],
   "source": [
    "# If statement in List\n",
    "if \"audi\" in cars:\n",
    "    print(\"The cars is worthy\")\n",
    "else:\n",
    "    print(\"The cars is not worthy\")"
   ]
  },
  {
   "cell_type": "code",
   "execution_count": 47,
   "metadata": {},
   "outputs": [
    {
     "name": "stdout",
     "output_type": "stream",
     "text": [
      "['BMW', 'Rolls Royce', 'Benz', 'BMW']\n",
      "['BMW', 'Rolls Royce', 'Maruti', 'Hundai', 'BMW']\n"
     ]
    }
   ],
   "source": [
    "# Redefining the value\n",
    "cars[1] = 'Rolls Royce'\n",
    "print(cars)\n",
    "\n",
    "# Redefining for an Multipel Values\n",
    "cars[2:3] = [\"Maruti\", \"Hundai\"]\n",
    "print(cars)"
   ]
  },
  {
   "cell_type": "code",
   "execution_count": 48,
   "metadata": {},
   "outputs": [
    {
     "name": "stdout",
     "output_type": "stream",
     "text": [
      "['BMW', 'Rolls Royce', 'Jaguar', 'Maruti', 'Hundai', 'BMW']\n"
     ]
    }
   ],
   "source": [
    "# Insert() is used to insert the values at an particular index\n",
    "cars.insert(2,'Jaguar')\n",
    "print(cars)"
   ]
  },
  {
   "cell_type": "code",
   "execution_count": null,
   "metadata": {},
   "outputs": [],
   "source": [
    "# append() is used to get the value added to the end of the list\n",
    "cars.append('Ford')\n",
    "print('The Append values',cars)"
   ]
  },
  {
   "cell_type": "code",
   "execution_count": null,
   "metadata": {},
   "outputs": [],
   "source": [
    "# extend() is used to append elements from the another list\n",
    "\n",
    "list1 = ['Apple', 'Mango', 'Banana', 'Orange']\n",
    "list2 = ['Kiwi', 'Jack fruit', 'Dragon Fruit']\n",
    "list1.extend(list2)\n",
    "print(list1)\n",
    "\n",
    "# This extend() can also append in the tupel, dictonary, set\n",
    "\n",
    "var_one = [\"Bike\", \"Car\", \"Cycle\"]\n",
    "var_two = (\"Aeroplane\", \"ship\")\n",
    "var_one.extend(var_two)\n",
    "print('The Extend value is', var_one)"
   ]
  },
  {
   "cell_type": "code",
   "execution_count": null,
   "metadata": {},
   "outputs": [],
   "source": [
    "# Remove() is to get of the specific item\n",
    "# If there are more than one item with the specified value, the remove() method removes the first occurrence:\n",
    "cars.remove('BMW')\n",
    "print(cars)"
   ]
  },
  {
   "cell_type": "code",
   "execution_count": null,
   "metadata": {},
   "outputs": [],
   "source": [
    "# pop() is used to remove the specific index\n",
    "\n",
    "cars.pop(1)\n",
    "print(cars)\n",
    "\n",
    "# if no index is specified it removes the last values\n",
    "\n",
    "cars.pop()\n",
    "print(cars)"
   ]
  },
  {
   "cell_type": "code",
   "execution_count": null,
   "metadata": {},
   "outputs": [],
   "source": [
    "# del is also used for removing the specific value or the whole list \n",
    "# var_one\n",
    "# del var_one[0]\n",
    "# print(var_one)\n",
    "# del var_one "
   ]
  },
  {
   "cell_type": "code",
   "execution_count": null,
   "metadata": {},
   "outputs": [],
   "source": [
    "# clear() empty the list, the list still remains with no values\n",
    "cars.clear()"
   ]
  },
  {
   "cell_type": "code",
   "execution_count": null,
   "metadata": {},
   "outputs": [],
   "source": [
    "# Loop list -1\n",
    "fruit = [\"apple\", \"banana\", \"pineapple\"]\n",
    "for x in fruit:\n",
    "    print(x)\n",
    "    if x == 'banana':\n",
    "        break"
   ]
  },
  {
   "cell_type": "code",
   "execution_count": 52,
   "metadata": {},
   "outputs": [
    {
     "name": "stdout",
     "output_type": "stream",
     "text": [
      "apple\n"
     ]
    }
   ],
   "source": [
    "# Loop list -2\n",
    "fruit = [\"apple\", \"banana\", \"pineapple\"]\n",
    "for x in fruit:\n",
    "    if x == 'banana':\n",
    "        break\n",
    "    print(x)"
   ]
  },
  {
   "cell_type": "code",
   "execution_count": 86,
   "metadata": {},
   "outputs": [
    {
     "name": "stdout",
     "output_type": "stream",
     "text": [
      "[50, 58, 62, 100]\n",
      "['banana', 'cherry', 'Kiwi', 'Orange']\n"
     ]
    }
   ],
   "source": [
    "# Customised Sort\n",
    "# You can also customize your own function by using the keyword argument key = function\n",
    "def mysort(n):\n",
    "    return abs(n-50)\n",
    "\n",
    "list = [50, 100, 58, 62]\n",
    "\n",
    "list.sort(key = mysort)\n",
    "print(list)\n",
    "\n",
    "# By default the sort() method is case sensitive, resulting in all capital letters being sorted before lower case letters:\n",
    "fruits_basket = [\"banana\", \"Orange\", \"Kiwi\", \"cherry\"]\n",
    "# fruits.sort()\n",
    "fruits_basket.sort(key = str.lower)\n",
    "print(fruits_basket)\n",
    "# print(fruits)"
   ]
  },
  {
   "cell_type": "code",
   "execution_count": 65,
   "metadata": {},
   "outputs": [
    {
     "name": "stdout",
     "output_type": "stream",
     "text": [
      "['apple', 'banana', 'cherry', 'kiwi']\n",
      "['banana', 'cherry', 'kiwi', 'mango']\n"
     ]
    }
   ],
   "source": [
    "fruits = [\"apple\", \"banana\", \"cherry\", \"kiwi\", \"mango\"]\n",
    "\n",
    "newlist = []\n",
    "\n",
    "new_list_creation = [x for x in fruits if x != \"mango\"]\n",
    "print(new_list_creation)\n",
    "\n",
    "# Code Break-up which can be exaplined in the code below\n",
    "for i in fruits:\n",
    "    if i != \"apple\":\n",
    "        newlist.append(i)\n",
    "print(newlist)"
   ]
  },
  {
   "cell_type": "code",
   "execution_count": 72,
   "metadata": {},
   "outputs": [
    {
     "name": "stdout",
     "output_type": "stream",
     "text": [
      "geetha\n",
      "GEETHA\n"
     ]
    }
   ],
   "source": [
    "# Upper and Lower case Transformation\n",
    "x = \"Geetha\"\n",
    "y = x.lower()\n",
    "z = x.upper()\n",
    "print(y)\n",
    "print(z)"
   ]
  },
  {
   "cell_type": "code",
   "execution_count": 89,
   "metadata": {},
   "outputs": [
    {
     "name": "stdout",
     "output_type": "stream",
     "text": [
      "['banana', 'Orange', 'Kiwi', 'cherry']\n"
     ]
    }
   ],
   "source": [
    "# Reverse() - reverse the order of a list, regardless of the alphabet\n",
    "\n",
    "furits = [\"banana\", \"Orange\", \"Kiwi\", \"cherry\"]\n",
    "fruits.reverse()\n",
    "print(fruits)"
   ]
  },
  {
   "cell_type": "code",
   "execution_count": 78,
   "metadata": {},
   "outputs": [
    {
     "name": "stdout",
     "output_type": "stream",
     "text": [
      "['Elephant', 'Lion', 'Tiger', 'Zebra']\n",
      "['Zebra', 'Tiger', 'Lion', 'Elephant']\n"
     ]
    }
   ],
   "source": [
    "# Sorting with Asc & DSCE\n",
    "# ASC\n",
    "animals = ['Tiger', 'Zebra', 'Elephant', 'Lion']\n",
    "animals.sort()\n",
    "print(animals)\n",
    "\n",
    "# DSCE\n",
    "animals.sort(reverse = True)\n",
    "print(animals)"
   ]
  },
  {
   "cell_type": "markdown",
   "metadata": {},
   "source": [
    "## TUPLES\n",
    "\n",
    "Tuple items are ordered, unchangeable, and allow duplicate values.\n",
    "\n",
    "Tuple are indexed, the first item has index [0], the second item has index [1].\n",
    "\n",
    "### Ordered\n",
    "The tuples are ordered, it means that the items have a defined order, and that order will not change.\n",
    "\n",
    "### Unchangeable\n",
    "Tuples are unchangeable, meaning that we cannot change, add or remove items after the tuple has been created.\n",
    "\n",
    "### Allow Duplicates\n",
    "Since tuples are indexed, they can have items with the same value:"
   ]
  },
  {
   "cell_type": "code",
   "execution_count": 23,
   "metadata": {},
   "outputs": [
    {
     "name": "stdout",
     "output_type": "stream",
     "text": [
      "('BMW', 'Ford', 'GT', 'Audi')\n"
     ]
    }
   ],
   "source": [
    "# TUPLES \n",
    "cars = ('BMW', 'Ford', 'GT', 'Audi')\n",
    "print(cars)"
   ]
  },
  {
   "cell_type": "code",
   "execution_count": 36,
   "metadata": {},
   "outputs": [
    {
     "name": "stdout",
     "output_type": "stream",
     "text": [
      "('BMW', 'Ford', 'GT', 'Audi', 'GT')\n",
      "5\n"
     ]
    }
   ],
   "source": [
    "# Adding Duplicated in an Tuples\n",
    "cars = ('BMW', 'Ford', 'GT', 'Audi', 'GT')\n",
    "print(cars)\n",
    "\n",
    "# Length of an tuple\n",
    "cars = ('BMW', 'Ford', 'GT', 'Audi', 'GT')\n",
    "print(len(cars))"
   ]
  },
  {
   "cell_type": "code",
   "execution_count": 34,
   "metadata": {
    "scrolled": true
   },
   "outputs": [
    {
     "name": "stdout",
     "output_type": "stream",
     "text": [
      "('BMW',)\n",
      "<class 'tuple'>\n",
      "BMW\n",
      "<class 'str'>\n"
     ]
    }
   ],
   "source": [
    "# In order to have only one item in a tuple follw the command below\n",
    "cars = ('BMW',)\n",
    "print(cars)\n",
    "print(type(cars))\n",
    "\n",
    "# In case when the comma is not given\n",
    "cars_value = ('BMW')\n",
    "print(cars_value)\n",
    "print(type(cars_value ))"
   ]
  },
  {
   "cell_type": "code",
   "execution_count": 2,
   "metadata": {},
   "outputs": [
    {
     "name": "stdout",
     "output_type": "stream",
     "text": [
      "('Hari', 'Jay', 'Ram')\n"
     ]
    }
   ],
   "source": [
    "# Tuples Constructor\n",
    "f_name = tuple(('Hari', 'Jay', 'Ram'))\n",
    "print(f_name)"
   ]
  },
  {
   "cell_type": "code",
   "execution_count": 18,
   "metadata": {},
   "outputs": [],
   "source": [
    "# Concerting a tuple into an list\n",
    "# The only way to add the item to an tuples is to convert to list and add the item and again change to tuples\n",
    "# append() can aslo be added up only converting to list\n",
    "f_name = ('Hari', 'Jay', 'Ram')\n",
    "# f_name_to_list = list(f_name)\n",
    "\n",
    "# f_name_to_list[1] = \"vishnu\"\n",
    "\n",
    "# f_name = tuple(f_name_to_list)\n",
    "\n",
    "# print(f_name)"
   ]
  },
  {
   "cell_type": "markdown",
   "metadata": {},
   "source": [
    "# Miscellaneous"
   ]
  },
  {
   "cell_type": "code",
   "execution_count": 55,
   "metadata": {},
   "outputs": [
    {
     "name": "stdout",
     "output_type": "stream",
     "text": [
      "\n",
      "\n",
      "* \n",
      "\n",
      "* * \n",
      "\n",
      "* * * \n",
      "\n",
      "* * * * \n",
      "\n",
      "* * * * * \n",
      "\n"
     ]
    }
   ],
   "source": [
    "# Print the start patten in the tree form \n",
    "for x in range(6):\n",
    "    for j in range(x):\n",
    "        if j <= x:\n",
    "            print(\"*\", end=\" \")   \n",
    "    print('\\n')"
   ]
  },
  {
   "cell_type": "code",
   "execution_count": 56,
   "metadata": {},
   "outputs": [
    {
     "name": "stdout",
     "output_type": "stream",
     "text": [
      "0 \n",
      "\n",
      "0 1 \n",
      "\n",
      "0 1 2 \n",
      "\n",
      "0 1 2 3 \n",
      "\n",
      "0 1 2 3 4 \n",
      "\n"
     ]
    }
   ],
   "source": [
    "# Print the pattern of tree with the numbers\n",
    "for x in range(1,6):\n",
    "    for j in range(x):\n",
    "        print(j, end = \" \")\n",
    "    print(\"\\n\")"
   ]
  },
  {
   "cell_type": "code",
   "execution_count": 57,
   "metadata": {},
   "outputs": [
    {
     "name": "stdout",
     "output_type": "stream",
     "text": [
      "****\n",
      "\n",
      "****\n",
      "\n",
      "****\n",
      "\n",
      "****\n",
      "\n"
     ]
    }
   ],
   "source": [
    "# Print the start patten in the tree form \n",
    "for i in range(4):\n",
    "    for j in range(4):\n",
    "        print('*', end = \"\")\n",
    "    print('\\n')"
   ]
  },
  {
   "cell_type": "code",
   "execution_count": 61,
   "metadata": {},
   "outputs": [
    {
     "name": "stdout",
     "output_type": "stream",
     "text": [
      "[[0, 0, 0], [0, 1, 0], [1, 0, 0]]\n"
     ]
    }
   ],
   "source": [
    "# List comprehension offers a shorter syntax when you want to create a new list based on the values of an existing list.\n",
    "x = 1\n",
    "y = 1\n",
    "z = 1\n",
    "n = 2\n",
    "\n",
    "new_list = []\n",
    "    \n",
    "for i in range(x+1):\n",
    "#     print('The value of x',x)\n",
    "    for j in range(y+1):\n",
    "#         print('The value of y',y)\n",
    "        for k in range(z):\n",
    "#             print('The value of z',z)\n",
    "            if(i+j+k != n):\n",
    "                new_list.append([i,j,k])\n",
    "print(new_list)"
   ]
  }
 ],
 "metadata": {
  "kernelspec": {
   "display_name": "Python 3",
   "language": "python",
   "name": "python3"
  },
  "language_info": {
   "codemirror_mode": {
    "name": "ipython",
    "version": 3
   },
   "file_extension": ".py",
   "mimetype": "text/x-python",
   "name": "python",
   "nbconvert_exporter": "python",
   "pygments_lexer": "ipython3",
   "version": "3.8.5"
  }
 },
 "nbformat": 4,
 "nbformat_minor": 4
}
