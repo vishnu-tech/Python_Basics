{
 "cells": [
  {
   "cell_type": "markdown",
   "metadata": {},
   "source": [
    "# PYTHON BASICS "
   ]
  },
  {
   "cell_type": "markdown",
   "metadata": {},
   "source": [
    "Python is a Programming Language"
   ]
  },
  {
   "cell_type": "markdown",
   "metadata": {},
   "source": [
    "# List, Tuples, Set, dictonary"
   ]
  },
  {
   "cell_type": "markdown",
   "metadata": {},
   "source": [
    "## LIST\n",
    "\n",
    "List items are ordered, changeable, and allow duplicate values.\n",
    "\n",
    "A list can contain different data types\n",
    "\n",
    "### Ordered\n",
    "* When we say that lists are ordered, it means that the items have a defined order, and that order will not change.\n",
    "\n",
    "* If you add new items to a list, the new items will be placed at the end of the list.\n",
    "\n",
    "### Changeable\n",
    "The list is changeable, meaning that we can change, add, and remove items in a list after it has been created.\n",
    "\n",
    "### Allow Duplicates\n",
    "Since lists are indexed, lists can have items with the same value"
   ]
  },
  {
   "cell_type": "code",
   "execution_count": 22,
   "metadata": {},
   "outputs": [
    {
     "name": "stdout",
     "output_type": "stream",
     "text": [
      "['BMW', 'Ford', 'GT', 'Audi', 'BMW']\n"
     ]
    }
   ],
   "source": [
    "# LIST\n",
    "cars = ['BMW', 'Ford', 'GT', 'Audi']\n",
    "\n",
    "# Entering the Duplicate values\n",
    "cars = ['BMW', 'Ford', 'GT', 'Audi', 'BMW']\n",
    "print(cars)"
   ]
  },
  {
   "cell_type": "code",
   "execution_count": null,
   "metadata": {},
   "outputs": [],
   "source": [
    "# Entering the Duplicate values\n",
    "cars = ['BMW', 'Audi', 'Benz', 'BMW']\n",
    "print(cars)"
   ]
  },
  {
   "cell_type": "code",
   "execution_count": null,
   "metadata": {},
   "outputs": [],
   "source": [
    "# Check the length of the list\n",
    "print(len(cars))"
   ]
  },
  {
   "cell_type": "code",
   "execution_count": null,
   "metadata": {},
   "outputs": [],
   "source": [
    "# Type() is used to check the type of datatype\n",
    "print(type(cars))"
   ]
  },
  {
   "cell_type": "code",
   "execution_count": null,
   "metadata": {},
   "outputs": [],
   "source": [
    "# The list() constructor \n",
    "data_car = list(('BMW', 'Audi', 'Benz', 'BMW'))\n",
    "print(data_car)"
   ]
  },
  {
   "cell_type": "code",
   "execution_count": null,
   "metadata": {},
   "outputs": [],
   "source": [
    "print(cars)\n",
    "print(cars[1])\n",
    "print(cars[:2])\n",
    "print(cars[1:2])\n",
    "print(cars[-3:-1])"
   ]
  },
  {
   "cell_type": "code",
   "execution_count": null,
   "metadata": {},
   "outputs": [],
   "source": [
    "# If statement in List\n",
    "if \"audi\" in cars:\n",
    "    print(\"The cars is worthy\")\n",
    "else:\n",
    "    print(\"The cars is not worthy\")"
   ]
  },
  {
   "cell_type": "code",
   "execution_count": null,
   "metadata": {},
   "outputs": [],
   "source": [
    "# Redefining the value\n",
    "cars[1] = 'Rolls Royce'\n",
    "print(cars)\n",
    "\n",
    "# Redefining for an Multipel Values\n",
    "cars[2:3] = [\"Maruti\", \"Hundai\"]\n",
    "print(cars)"
   ]
  },
  {
   "cell_type": "code",
   "execution_count": null,
   "metadata": {},
   "outputs": [],
   "source": []
  },
  {
   "cell_type": "markdown",
   "metadata": {},
   "source": [
    "## TUPLES\n",
    "\n",
    "Tuple items are ordered, unchangeable, and allow duplicate values.\n",
    "\n",
    "Tuple are indexed, the first item has index [0], the second item has index [1].\n",
    "\n",
    "### Ordered\n",
    "The tuples are ordered, it means that the items have a defined order, and that order will not change.\n",
    "\n",
    "### Unchangeable\n",
    "Tuples are unchangeable, meaning that we cannot change, add or remove items after the tuple has been created.\n",
    "\n",
    "### Allow Duplicates\n",
    "Since tuples are indexed, they can have items with the same value:"
   ]
  },
  {
   "cell_type": "code",
   "execution_count": 23,
   "metadata": {},
   "outputs": [
    {
     "name": "stdout",
     "output_type": "stream",
     "text": [
      "('BMW', 'Ford', 'GT', 'Audi')\n"
     ]
    }
   ],
   "source": [
    "# TUPLES \n",
    "cars = ('BMW', 'Ford', 'GT', 'Audi')\n",
    "print(cars)"
   ]
  },
  {
   "cell_type": "code",
   "execution_count": 36,
   "metadata": {},
   "outputs": [
    {
     "name": "stdout",
     "output_type": "stream",
     "text": [
      "('BMW', 'Ford', 'GT', 'Audi', 'GT')\n",
      "5\n"
     ]
    }
   ],
   "source": [
    "# Adding Duplicated in an Tuples\n",
    "cars = ('BMW', 'Ford', 'GT', 'Audi', 'GT')\n",
    "print(cars)\n",
    "\n",
    "# Length of an tuple\n",
    "cars = ('BMW', 'Ford', 'GT', 'Audi', 'GT')\n",
    "print(len(cars))"
   ]
  },
  {
   "cell_type": "code",
   "execution_count": 34,
   "metadata": {},
   "outputs": [
    {
     "name": "stdout",
     "output_type": "stream",
     "text": [
      "('BMW',)\n",
      "<class 'tuple'>\n",
      "BMW\n",
      "<class 'str'>\n"
     ]
    }
   ],
   "source": [
    "# In order to have only one item in a tuple follw the command below\n",
    "cars = ('BMW',)\n",
    "print(cars)\n",
    "print(type(cars))\n",
    "\n",
    "# In case when the comma is not given\n",
    "cars_value = ('BMW')\n",
    "print(cars_value)\n",
    "print(type(cars_value ))"
   ]
  },
  {
   "cell_type": "code",
   "execution_count": null,
   "metadata": {},
   "outputs": [],
   "source": []
  }
 ],
 "metadata": {
  "kernelspec": {
   "display_name": "Python 3",
   "language": "python",
   "name": "python3"
  },
  "language_info": {
   "codemirror_mode": {
    "name": "ipython",
    "version": 3
   },
   "file_extension": ".py",
   "mimetype": "text/x-python",
   "name": "python",
   "nbconvert_exporter": "python",
   "pygments_lexer": "ipython3",
   "version": "3.8.5"
  }
 },
 "nbformat": 4,
 "nbformat_minor": 4
}
